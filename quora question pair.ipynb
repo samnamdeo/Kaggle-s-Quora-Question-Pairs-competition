{
 "cells": [
  {
   "cell_type": "code",
   "execution_count": 1,
   "metadata": {
    "collapsed": true
   },
   "outputs": [],
   "source": [
    "import numpy as np\n",
    "import pandas as pd\n",
    "from time import time\n",
    "import itertools\n",
    "import datetime\n",
    "import matplotlib.pyplot as plt\n",
    "import seaborn as sns"
   ]
  },
  {
   "cell_type": "code",
   "execution_count": 2,
   "metadata": {
    "collapsed": true
   },
   "outputs": [],
   "source": [
    "google_W2V = 'GoogleNews-vectors-negative300.bin.gz'\n",
    "TEST_CSV = \"test.csv\"\n",
    "TRAIN_CSV = \"train.csv\"\n",
    "\n",
    "def get_dataframe(path,chunksize):\n",
    "    df = pd.read_csv(path,nrows=chunksize)\n",
    "    return df"
   ]
  },
  {
   "cell_type": "code",
   "execution_count": 3,
   "metadata": {},
   "outputs": [
    {
     "data": {
      "text/plain": [
       "(100000, 6)"
      ]
     },
     "execution_count": 3,
     "metadata": {},
     "output_type": "execute_result"
    }
   ],
   "source": [
    "train_data=get_dataframe(TRAIN_CSV,10**5)\n",
    "train_data.shape"
   ]
  },
  {
   "cell_type": "code",
   "execution_count": 4,
   "metadata": {
    "scrolled": true
   },
   "outputs": [
    {
     "data": {
      "text/plain": [
       "(100000, 3)"
      ]
     },
     "execution_count": 4,
     "metadata": {},
     "output_type": "execute_result"
    }
   ],
   "source": [
    "test_data=get_dataframe(TEST_CSV,10**5)\n",
    "test_data.shape"
   ]
  },
  {
   "cell_type": "code",
   "execution_count": 5,
   "metadata": {},
   "outputs": [
    {
     "data": {
      "image/png": "[encoded data removed]",
      "text/plain": [
       "<matplotlib.figure.Figure at 0x24dd13406d8>"
      ]
     },
     "metadata": {},
     "output_type": "display_data"
    }
   ],
   "source": [
    "is_dup = train_data['is_duplicate'].value_counts()\n",
    "plt.figure(figsize=(8,4))\n",
    "sns.barplot(is_dup.index, is_dup.values, alpha=0.8, color='greenyellow')\n",
    "plt.ylabel('Number of Occurrences', fontsize=12)\n",
    "plt.xlabel('Is Duplicate', fontsize=12)\n",
    "plt.show()"
   ]
  },
  {
   "cell_type": "code",
   "execution_count": 6,
   "metadata": {},
   "outputs": [
    {
     "data": {
      "image/png": "[encoded data removed]",
      "text/plain": [
       "<matplotlib.figure.Figure at 0x24dd4586780>"
      ]
     },
     "metadata": {},
     "output_type": "display_data"
    }
   ],
   "source": [
    "plt.figure(figsize=(4, 4))\n",
    "plt.pie(train_data.is_duplicate.value_counts(), explode=(0.1, 0), labels=('Non-duplicate', 'Duplicate'), colors=('lightblue', 'blue'), autopct='%1.2f%%', shadow=True, startangle=140)\n",
    "plt.axis('equal')\n",
    "plt.show()\n",
    "del train_data\n",
    "del test_data"
   ]
  },
  {
   "cell_type": "code",
   "execution_count": 7,
   "metadata": {
    "collapsed": true
   },
   "outputs": [],
   "source": [
    "#text analysis\n",
    "import re\n",
    "def text_to_word_list(text):\n",
    "    text = str(text)\n",
    "    text = text.lower()\n",
    "    # Clean the text\n",
    "    text = re.sub(r\"[^A-Za-z0-9^,!.\\/'+-=]\", \" \", text)\n",
    "    text = re.sub(r\"what's\", \"what is \", text)\n",
    "    text = re.sub(r\"\\'s\", \" \", text)\n",
    "    text = re.sub(r\"\\'ve\", \" have \", text)\n",
    "    text = re.sub(r\"can't\", \"cannot \", text)\n",
    "    text = re.sub(r\"n't\", \" not \", text)\n",
    "    text = re.sub(r\"i'm\", \"i am \", text)\n",
    "    text = re.sub(r\"\\'re\", \" are \", text)\n",
    "    text = re.sub(r\"\\'d\", \" would \", text)\n",
    "    text = re.sub(r\"\\'ll\", \" will \", text)\n",
    "    text = re.sub(r\",\", \" \", text)\n",
    "    text = re.sub(r\"\\.\", \" \", text)\n",
    "    text = re.sub(r\"!\", \" ! \", text)\n",
    "    text = re.sub(r\"\\/\", \" \", text)\n",
    "    text = re.sub(r\"\\^\", \" ^ \", text)\n",
    "    text = re.sub(r\"\\+\", \" + \", text)\n",
    "    text = re.sub(r\"\\-\", \" - \", text)\n",
    "    text = re.sub(r\"\\=\", \" = \", text)\n",
    "    text = re.sub(r\"'\", \" \", text)\n",
    "    text = re.sub(r\"(\\d+)(k)\", r\"\\g<1>000\", text)\n",
    "    text = re.sub(r\":\", \" : \", text)\n",
    "    text = re.sub(r\" e g \", \" eg \", text)\n",
    "    text = re.sub(r\" b g \", \" bg \", text)\n",
    "    text = re.sub(r\" u s \", \" american \", text)\n",
    "    text = re.sub(r\"\\0s\", \"0\", text)\n",
    "    text = re.sub(r\" 9 11 \", \"911\", text)\n",
    "    text = re.sub(r\"e - mail\", \"email\", text)\n",
    "    text = re.sub(r\"j k\", \"jk\", text)\n",
    "    text = re.sub(r\"\\s{2,}\", \" \", text)\n",
    "    \n",
    "    text = text.split()\n",
    "    return text\n",
    "\n",
    "\n",
    "\n"
   ]
  },
  {
   "cell_type": "code",
   "execution_count": 8,
   "metadata": {},
   "outputs": [
    {
     "name": "stderr",
     "output_type": "stream",
     "text": [
      "C:\\Users\\HP\\Anaconda3\\envs\\tensorflow\\lib\\site-packages\\gensim\\utils.py:1167: UserWarning: detected Windows; aliasing chunkize to chunkize_serial\n",
      "  warnings.warn(\"detected Windows; aliasing chunkize to chunkize_serial\")\n"
     ]
    }
   ],
   "source": [
    "# Prepare embedding\n",
    "from gensim.models import KeyedVectors\n",
    "from sklearn.model_selection import train_test_split\n",
    "vocabulary = dict()\n",
    "inverse_vocabulary = []  \n",
    "word2vec = KeyedVectors.load_word2vec_format(google_W2V, binary=True)"
   ]
  },
  {
   "cell_type": "code",
   "execution_count": 9,
   "metadata": {
    "collapsed": true
   },
   "outputs": [],
   "source": [
    "#nltk \n",
    "import nltk\n",
    "#nltk.download('stopwords')\n",
    "from nltk.corpus import stopwords\n",
    "stops = set(stopwords.words('english'))\n",
    "questions_cols = ['question1', 'question2']"
   ]
  },
  {
   "cell_type": "code",
   "execution_count": 10,
   "metadata": {
    "collapsed": true
   },
   "outputs": [],
   "source": [
    "#Getting Dataframe\n",
    "test_df = get_dataframe(TEST_CSV,10**5)\n",
    "#pd.read_csv(TEST_CSV,nrows=chunksize)\n",
    "train_df = get_dataframe(TRAIN_CSV,10**5)\n",
    "#pd.read_csv(TRAIN_CSV,nrows=chunksize)\n",
    "\n",
    "\n",
    "# train_df iteration\n",
    "for index, row in train_df.iterrows():\n",
    "    \n",
    "    for question in questions_cols:\n",
    "        corpus = []  \n",
    "        for word in text_to_word_list(row[question]):\n",
    "\n",
    "            \n",
    "            if word in stops and word not in word2vec.vocab:\n",
    "                continue\n",
    "\n",
    "            if word not in vocabulary:\n",
    "                vocabulary[word] = len(inverse_vocabulary)\n",
    "                corpus.append(len(inverse_vocabulary))\n",
    "                inverse_vocabulary.append(word)\n",
    "            else:\n",
    "                corpus.append(vocabulary[word])\n",
    "\n",
    "        \n",
    "        train_df.set_value(index, question, corpus)"
   ]
  },
  {
   "cell_type": "code",
   "execution_count": 11,
   "metadata": {
    "collapsed": true
   },
   "outputs": [],
   "source": [
    "# test_df iteration\n",
    "for index, row in test_df.iterrows():\n",
    "    \n",
    "    for question in questions_cols:\n",
    "        corpus2 = []  \n",
    "        for word in text_to_word_list(row[question]):\n",
    "\n",
    "            \n",
    "            if word in stops and word not in word2vec.vocab:\n",
    "                continue\n",
    "\n",
    "            if word not in vocabulary:\n",
    "                vocabulary[word] = len(inverse_vocabulary)\n",
    "                corpus2.append(len(inverse_vocabulary))\n",
    "                inverse_vocabulary.append(word)\n",
    "            else:\n",
    "                corpus2.append(vocabulary[word])\n",
    "\n",
    "        \n",
    "        test_df.set_value(index, question, corpus2)"
   ]
  },
  {
   "cell_type": "code",
   "execution_count": 12,
   "metadata": {
    "collapsed": true
   },
   "outputs": [],
   "source": [
    "embedding_dim = 300\n",
    "embeddings = 1 * np.random.randn(len(vocabulary) + 1, embedding_dim)\n",
    "embeddings[0] = 0\n",
    "\n",
    "for word, index in vocabulary.items():\n",
    "    if word in word2vec.vocab:\n",
    "        embeddings[index] = word2vec.word_vec(word)"
   ]
  },
  {
   "cell_type": "code",
   "execution_count": 13,
   "metadata": {},
   "outputs": [
    {
     "name": "stderr",
     "output_type": "stream",
     "text": [
      "Using TensorFlow backend.\n"
     ]
    }
   ],
   "source": [
    "max_seq_length = max(train_df.question1.map(lambda x: len(x)).max(),\n",
    "                     train_df.question2.map(lambda x: len(x)).max(),\n",
    "                     test_df.question1.map(lambda x: len(x)).max(),\n",
    "                     test_df.question2.map(lambda x: len(x)).max())\n",
    "\n",
    "test_size = 40000\n",
    "training_size = len(train_df) - test_size\n",
    "\n",
    "X = train_df[questions_cols]\n",
    "Y = train_df['is_duplicate']\n",
    "\n",
    "X_train, X_test, Y_train, Y_test = train_test_split(X, Y, test_size=test_size)\n",
    "\n",
    "X_train = {'left': X_train.question1, 'right': X_train.question2}\n",
    "X_test = {'left': X_test.question1, 'right': X_test.question2}\n",
    "#X_test = {'left': test_df.question1, 'right': test_df.question2}\n",
    "\n",
    "Y_train = Y_train.values\n",
    "Y_test = Y_test.values\n",
    "\n",
    "from keras.preprocessing.sequence import pad_sequences\n",
    "\n",
    "for dataset, side in itertools.product([X_train, X_test], ['left', 'right']):\n",
    "    dataset[side] = pad_sequences(dataset[side], maxlen=max_seq_length)\n",
    "\n",
    "assert X_train['left'].shape == X_train['right'].shape\n",
    "assert len(X_train['left']) == len(Y_train)"
   ]
  },
  {
   "cell_type": "code",
   "execution_count": 14,
   "metadata": {},
   "outputs": [
    {
     "name": "stderr",
     "output_type": "stream",
     "text": [
      "C:\\Users\\HP\\Anaconda3\\envs\\tensorflow\\lib\\site-packages\\ipykernel_launcher.py:33: UserWarning: The `Merge` layer is deprecated and will be removed after 08/2017. Use instead layers from `keras.layers.merge`, e.g. `add`, `concatenate`, etc.\n",
      "C:\\Users\\HP\\Anaconda3\\envs\\tensorflow\\lib\\site-packages\\ipykernel_launcher.py:47: UserWarning: The `nb_epoch` argument in `fit` has been renamed `epochs`.\n"
     ]
    },
    {
     "name": "stdout",
     "output_type": "stream",
     "text": [
      "Train on 60000 samples, validate on 40000 samples\n",
      "Epoch 1/25\n",
      "60000/60000 [==============================] - 720s 12ms/step - loss: 0.1886 - acc: 0.7240 - val_loss: 0.1744 - val_acc: 0.7414\n",
      "Epoch 2/25\n",
      "60000/60000 [==============================] - 706s 12ms/step - loss: 0.1634 - acc: 0.7662 - val_loss: 0.1625 - val_acc: 0.7667\n",
      "Epoch 3/25\n",
      "60000/60000 [==============================] - 706s 12ms/step - loss: 0.1528 - acc: 0.7873 - val_loss: 0.1570 - val_acc: 0.7777\n",
      "Epoch 4/25\n",
      "60000/60000 [==============================] - 739s 12ms/step - loss: 0.1459 - acc: 0.7994 - val_loss: 0.1541 - val_acc: 0.7872\n",
      "Epoch 5/25\n",
      "60000/60000 [==============================] - 750s 12ms/step - loss: 0.1407 - acc: 0.8090 - val_loss: 0.1509 - val_acc: 0.7887\n",
      "Epoch 6/25\n",
      "60000/60000 [==============================] - 747s 12ms/step - loss: 0.1367 - acc: 0.8147 - val_loss: 0.1491 - val_acc: 0.7954\n",
      "Epoch 7/25\n",
      "60000/60000 [==============================] - 720s 12ms/step - loss: 0.1327 - acc: 0.8221 - val_loss: 0.1480 - val_acc: 0.7917\n",
      "Epoch 8/25\n",
      "60000/60000 [==============================] - 718s 12ms/step - loss: 0.1295 - acc: 0.8282 - val_loss: 0.1472 - val_acc: 0.7963\n",
      "Epoch 9/25\n",
      "60000/60000 [==============================] - 717s 12ms/step - loss: 0.1266 - acc: 0.8322 - val_loss: 0.1457 - val_acc: 0.7986\n",
      "Epoch 10/25\n",
      "60000/60000 [==============================] - 718s 12ms/step - loss: 0.1240 - acc: 0.8364 - val_loss: 0.1451 - val_acc: 0.7971\n",
      "Epoch 11/25\n",
      "60000/60000 [==============================] - 717s 12ms/step - loss: 0.1216 - acc: 0.8414 - val_loss: 0.1449 - val_acc: 0.7988\n",
      "Epoch 12/25\n",
      "60000/60000 [==============================] - 718s 12ms/step - loss: 0.1192 - acc: 0.8452 - val_loss: 0.1443 - val_acc: 0.8027\n",
      "Epoch 13/25\n",
      "60000/60000 [==============================] - 719s 12ms/step - loss: 0.1171 - acc: 0.8493 - val_loss: 0.1436 - val_acc: 0.7997\n",
      "Epoch 14/25\n",
      "60000/60000 [==============================] - 717s 12ms/step - loss: 0.1150 - acc: 0.8525 - val_loss: 0.1436 - val_acc: 0.7989\n",
      "Epoch 15/25\n",
      "60000/60000 [==============================] - 718s 12ms/step - loss: 0.1133 - acc: 0.8561 - val_loss: 0.1422 - val_acc: 0.8044\n",
      "Epoch 16/25\n",
      "60000/60000 [==============================] - 721s 12ms/step - loss: 0.1114 - acc: 0.8591 - val_loss: 0.1427 - val_acc: 0.8040\n",
      "Epoch 17/25\n",
      "60000/60000 [==============================] - 721s 12ms/step - loss: 0.1098 - acc: 0.8613 - val_loss: 0.1419 - val_acc: 0.8020\n",
      "Epoch 18/25\n",
      "60000/60000 [==============================] - 719s 12ms/step - loss: 0.1078 - acc: 0.8651 - val_loss: 0.1419 - val_acc: 0.8041\n",
      "Epoch 19/25\n",
      "60000/60000 [==============================] - 718s 12ms/step - loss: 0.1062 - acc: 0.8679 - val_loss: 0.1425 - val_acc: 0.7991\n",
      "Epoch 20/25\n",
      "60000/60000 [==============================] - 718s 12ms/step - loss: 0.1050 - acc: 0.8696 - val_loss: 0.1428 - val_acc: 0.7993\n",
      "Epoch 21/25\n",
      "60000/60000 [==============================] - 719s 12ms/step - loss: 0.1036 - acc: 0.8723 - val_loss: 0.1414 - val_acc: 0.8048\n",
      "Epoch 22/25\n",
      "60000/60000 [==============================] - 718s 12ms/step - loss: 0.1023 - acc: 0.8754 - val_loss: 0.1416 - val_acc: 0.8025\n",
      "Epoch 23/25\n",
      "60000/60000 [==============================] - 719s 12ms/step - loss: 0.1007 - acc: 0.8776 - val_loss: 0.1438 - val_acc: 0.7984\n",
      "Epoch 24/25\n",
      "60000/60000 [==============================] - 718s 12ms/step - loss: 0.0997 - acc: 0.8802 - val_loss: 0.1418 - val_acc: 0.8045\n",
      "Epoch 25/25\n",
      "60000/60000 [==============================] - 721s 12ms/step - loss: 0.0985 - acc: 0.8815 - val_loss: 0.1421 - val_acc: 0.8045\n",
      "Training time finished.\n",
      "25 epochs in 5:00:25.177898\n"
     ]
    }
   ],
   "source": [
    "from keras.models import Model\n",
    "from keras.layers import Input, Embedding, LSTM, Merge\n",
    "import keras.backend as K\n",
    "from keras.optimizers import Adam\n",
    "\n",
    "# Model variables\n",
    "n_hidden = 50\n",
    "gradient_clipping_norm = 1.25\n",
    "batch_size = 64\n",
    "n_epoch = 25\n",
    "\n",
    "def distance(left, right):\n",
    "    ''' Helper function for the similarity estimate of the LSTMs outputs'''\n",
    "    return K.exp(-K.sum(K.abs(left-right), axis=1, keepdims=True))\n",
    "\n",
    "\n",
    "left_input = Input(shape=(max_seq_length,), dtype='int32')\n",
    "right_input = Input(shape=(max_seq_length,), dtype='int32')\n",
    "\n",
    "embedding_layer = Embedding(len(embeddings), embedding_dim, weights=[embeddings], input_length=max_seq_length, trainable=False)\n",
    "\n",
    "\n",
    "encoded_left = embedding_layer(left_input)\n",
    "encoded_right = embedding_layer(right_input)\n",
    "\n",
    "\n",
    "shared_lstm = LSTM(n_hidden)\n",
    "\n",
    "left_output = shared_lstm(encoded_left)\n",
    "right_output = shared_lstm(encoded_right)\n",
    "\n",
    "\n",
    "lstm_distance = Merge(mode=lambda x: distance(x[0], x[1]), output_shape=lambda x: (x[0][0], 1))([left_output, right_output])\n",
    "\n",
    "\n",
    "lstm = Model([left_input, right_input], [lstm_distance])\n",
    "\n",
    "\n",
    "optimizer = Adam(clipnorm=gradient_clipping_norm)\n",
    "\n",
    "lstm.compile(loss='mean_squared_error', optimizer=optimizer, metrics=['accuracy'])\n",
    "\n",
    "\n",
    "training_start_time = time()\n",
    "\n",
    "lstm_trained = lstm.fit([X_train['left'], X_train['right']], Y_train, batch_size=batch_size, nb_epoch=n_epoch,\n",
    "                            validation_data=([X_test['left'], X_test['right']], Y_test))\n",
    "\n",
    "print(\"Training time finished.\\n{} epochs in {}\".format(n_epoch, datetime.timedelta(seconds=time()-training_start_time)))"
   ]
  },
  {
   "cell_type": "code",
   "execution_count": 15,
   "metadata": {},
   "outputs": [
    {
     "data": {
      "image/png": "[encoded data removed]",
      "text/plain": [
       "<matplotlib.figure.Figure at 0x24d9b666128>"
      ]
     },
     "metadata": {},
     "output_type": "display_data"
    }
   ],
   "source": [
    "\n",
    "plt.plot(lstm_trained.history['acc'], color = 'red', label = 'Train')\n",
    "\n",
    "plt.plot(lstm_trained.history['val_acc'], color = 'blue', label = 'Test')\n",
    "\n",
    "plt.title('Model accuracy ')\n",
    "\n",
    "plt.xlabel('Accuracy')\n",
    "\n",
    "plt.ylabel('Epoch')\n",
    "\n",
    "plt.legend()\n",
    "\n",
    "plt.show()\n"
   ]
  }
 ],
 "metadata": {
  "kernelspec": {
   "display_name": "Python 3",
   "language": "python",
   "name": "python3"
  },
  "language_info": {
   "codemirror_mode": {
    "name": "ipython",
    "version": 3
   },
   "file_extension": ".py",
   "mimetype": "text/x-python",
   "name": "python",
   "nbconvert_exporter": "python",
   "pygments_lexer": "ipython3",
   "version": "3.5.4"
  },
  "varInspector": {
   "cols": {
    "lenName": 16,
    "lenType": 16,
    "lenVar": 40
   },
   "kernels_config": {
    "python": {
     "delete_cmd_postfix": "",
     "delete_cmd_prefix": "del ",
     "library": "var_list.py",
     "varRefreshCmd": "print(var_dic_list())"
    },
    "r": {
     "delete_cmd_postfix": ") ",
     "delete_cmd_prefix": "rm(",
     "library": "var_list.r",
     "varRefreshCmd": "cat(var_dic_list()) "
    }
   },
   "position": {
    "height": "145px",
    "left": "974px",
    "right": "20px",
    "top": "115px",
    "width": "350px"
   },
   "types_to_exclude": [
    "module",
    "function",
    "builtin_function_or_method",
    "instance",
    "_Feature"
   ],
   "window_display": false
  }
 },
 "nbformat": 4,
 "nbformat_minor": 2
}
